{
 "cells": [
  {
   "cell_type": "code",
   "execution_count": 89,
   "metadata": {},
   "outputs": [],
   "source": [
    "from solution import *\n",
    "from utils import *"
   ]
  },
  {
   "cell_type": "code",
   "execution_count": 96,
   "metadata": {},
   "outputs": [],
   "source": [
    "grid='2.............62....1....7...6..8...3...9...7...6..4...4....8....52.............3'\n",
    "grid='1.4.9..68956.18.34..84.695151.....868..6...1264..8..97781923645495.6.823.6.854179'\n",
    "test=grid2values(grid)\n",
    "test=eliminate(test)\n",
    "#test=reduce_puzzle(test)\n",
    "#test=search(test)"
   ]
  },
  {
   "cell_type": "code",
   "execution_count": 97,
   "metadata": {},
   "outputs": [],
   "source": [
    "def test_twin(test1):\n",
    "    for box in test1.keys():\n",
    "        if len(test1[box]) == 2:\n",
    "            for boxRow in peers[box]:\n",
    "                if test1[box]== test1[boxRow] and box!=boxRow:\n",
    "                    for boxReplace in (peers[box].intersection(peers[boxRow])):\n",
    "                        if len(test1[boxReplace])>2:\n",
    "                            test1[boxReplace]=test1[boxReplace].replace(test1[box][0],'')\n",
    "                            test1[boxReplace]=test1[boxReplace].replace(test1[box][1],'')\n",
    "    return(test1)\n"
   ]
  },
  {
   "cell_type": "code",
   "execution_count": 98,
   "metadata": {},
   "outputs": [
    {
     "name": "stdout",
     "output_type": "stream",
     "text": [
      "  1   237   4  | 2357  9   257 |  27   6    8  \n",
      "  9    5    6  |  27   1    8  |  27   3    4  \n",
      "  23  237   8  |  4    37   6  |  9    5    1  \n",
      "---------------+---------------+---------------\n",
      "  5    1   2379| 237  347  279 |  34   8    6  \n",
      "  8    37  379 |  6   347  579 | 345   1    2  \n",
      "  6    4    23 | 1235  8   125 |  35   9    7  \n",
      "---------------+---------------+---------------\n",
      "  7    8    1  |  9    2    3  |  6    4    5  \n",
      "  4    9    5  |  17   6    17 |  8    2    3  \n",
      "  23   6    23 |  8    5    4  |  1    7    9  \n",
      "\n",
      "  1   237   4  | 2357  9   257 |  27   6    8  \n",
      "  9    5    6  |  27   1    8  |  27   3    4  \n",
      "  23  237   8  |  4    37   6  |  9    5    1  \n",
      "---------------+---------------+---------------\n",
      "  5    1    79 | 237  347  279 |  34   8    6  \n",
      "  8    37   79 |  6   347  579 | 345   1    2  \n",
      "  6    4    23 | 1235  8   125 |  35   9    7  \n",
      "---------------+---------------+---------------\n",
      "  7    8    1  |  9    2    3  |  6    4    5  \n",
      "  4    9    5  |  17   6    17 |  8    2    3  \n",
      "  23   6    23 |  8    5    4  |  1    7    9  \n",
      "\n"
     ]
    }
   ],
   "source": [
    "display(test)\n",
    "display(test_twin(test))"
   ]
  }
 ],
 "metadata": {
  "kernelspec": {
   "display_name": "Python [conda env:aind]",
   "language": "python",
   "name": "conda-env-aind-py"
  },
  "language_info": {
   "codemirror_mode": {
    "name": "ipython",
    "version": 3
   },
   "file_extension": ".py",
   "mimetype": "text/x-python",
   "name": "python",
   "nbconvert_exporter": "python",
   "pygments_lexer": "ipython3",
   "version": "3.5.4"
  }
 },
 "nbformat": 4,
 "nbformat_minor": 2
}
