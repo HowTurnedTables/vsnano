{
 "cells": [
  {
   "cell_type": "code",
   "execution_count": 115,
   "metadata": {},
   "outputs": [],
   "source": [
    "from solution import *\n",
    "from utils import *"
   ]
  },
  {
   "cell_type": "code",
   "execution_count": 118,
   "metadata": {},
   "outputs": [],
   "source": [
    "grid='2.............62....1....7...6..8...3...9...7...6..4...4....8....52.............3'\n",
    "grid='1.4.9..68956.18.34..84.695151.....868..6...1264..8..97781923645495.6.823.6.854179'\n",
    "grid='5.3111.91............4...................87.........9....2..96...2.9.1...........'\n",
    "values=grid2values(grid)\n",
    "test=values\n",
    "test=eliminate(test)\n",
    "test=reduce_puzzle(test)"
   ]
  },
  {
   "cell_type": "code",
   "execution_count": 119,
   "metadata": {},
   "outputs": [],
   "source": [
    "def test_twin(test1):\n",
    "    for box in test1.keys():\n",
    "        if len(test1[box]) == 2:\n",
    "            for boxRow in peers[box]:\n",
    "                if test1[box]== test1[boxRow] and box!=boxRow:\n",
    "                    for boxReplace in (peers[box].intersection(peers[boxRow])):\n",
    "                        if len(test1[boxReplace])>2:\n",
    "                            test1[boxReplace]=test1[boxReplace].replace(test1[box][0],'')\n",
    "                            test1[boxReplace]=test1[boxReplace].replace(test1[box][1],'')\n",
    "    return(test1)\n"
   ]
  },
  {
   "cell_type": "code",
   "execution_count": null,
   "metadata": {},
   "outputs": [],
   "source": [
    "def naked_twins(values):\n",
    "    \"\"\"Eliminate values using the naked twins strategy.\n",
    "    Args:\n",
    "        values(dict): a dictionary of the form {'box_name': '123456789', ...}\n",
    "    Returns:\n",
    "        the values dictionary with the naked twins eliminated from peers.\n",
    "    \"\"\"\n",
    "\n",
    "    # Find all instances of naked twins\n",
    "    ##########################################################################################################\n",
    "    # NOTE: we are using the same coding style as the AIND course materials to match, but are staging it to be\n",
    "    #       more readable, with longer variable names.\n",
    "    ##########################################################################################################\n",
    "\n",
    "    # we first find all possible naked twins values on the board\n",
    "    all_possible_naked_twins_values = [values[box] for box in values.keys()\n",
    "                                       if len(values[box]) == 2]\n",
    "\n",
    "    # then we use those values and isolate only the ones that appears more than once on the board: our candidates\n",
    "    candidate_naked_twins_values = [candidate for candidate in all_possible_naked_twins_values\n",
    "                                    if all_possible_naked_twins_values.count(candidate)>1]\n",
    "\n",
    "    # with our candidates, we iterate through our unitlist and find units that have square with the candidate values\n",
    "    units_with_candidates = [u for u in unitlist for candidate in candidate_naked_twins_values for s in u\n",
    "                             if values[s]==candidate]\n",
    "\n",
    "    # once we isolated the possible units with our candidate values, we get a list of all values for that unit\n",
    "    units_with_candidates_values_list = dict((\"+\".join(u), [values[s] for s in u]) for u in units_with_candidates)\n",
    "\n",
    "    # with the unit value list, we confirm our naked-twins by verifying that they occur more than once in a unit\n",
    "    #    and add them to our list.\n",
    "    naked_twin_list = [twins for twins in candidate_naked_twins_values for u in units_with_candidates\n",
    "                       if units_with_candidates_values_list[\"+\".join(u)].count(twins)>1] \n",
    "\n",
    "    # with the confirmed set of naked-twins, we search the units that have them and add them to a dictionary\n",
    "    units_with_naked_twins = dict((\"+\".join(u),naked) for u in units_with_candidates for naked in naked_twin_list\n",
    "                                   if units_with_candidates_values_list[\"+\".join(u)].count(naked)>1)\n",
    "    \n",
    "    # Eliminate the naked twins as possibilities for their peers\n",
    "    # we already have the list of units and the naked-twins associated with them in our dictionary\n",
    "    for naked_unit in units_with_naked_twins.keys():\n",
    "        naked = units_with_naked_twins[naked_unit]\n",
    "\n",
    "        # we just need to iterate through them and for squares that are not the ones with the naked-twins values,\n",
    "        for box in naked_unit.split('+'):\n",
    "\n",
    "            # if the boxes are not part of the naked-twins.\n",
    "            if values[box] != naked:\n",
    "                for digit in naked:\n",
    "                    # remove the digits from boxes that are not part of the naked-twins.  DONE!\n",
    "                    values = assign_value(values, box, values[box].replace(digit,''))\n",
    "    return values"
   ]
  },
  {
   "cell_type": "code",
   "execution_count": 145,
   "metadata": {},
   "outputs": [
    {
     "name": "stdout",
     "output_type": "stream",
     "text": [
      "  245689   234568     7    |  34568      1      23689  |  234568   345689    2458  \n",
      "  245689  1234568  1234569 |  345678   234579   236789 | 2345678  3456789   124578 \n",
      "  245689  1234568  1234569 |  345678   234579   236789 | 2345678  3456789   124578 \n",
      "---------------------------+---------------------------+---------------------------\n",
      "    3        9        8    |    1        6        5    |    47       2        47   \n",
      "   567      567       56   |    2        8        4    |    9        1        3    \n",
      "    1        24       24   |    9        37       37   |    58       58       6    \n",
      "---------------------------+---------------------------+---------------------------\n",
      " 2456789  12345678 1234569 |  345678   234579  1236789 | 2345678   345678   24578  \n",
      " 2456789  12345678 1234569 |  345678   234579  1236789 | 2345678   345678   24578  \n",
      "  245678  2345678   23456  |  345678   23457    23678  |    1      345678     9    \n",
      "\n",
      "  245689   234568     7    |  34568      1      23689  |  234568   345689    2458  \n",
      "  245689  1234568  1234569 |  345678   234579   236789 | 2345678  3456789   124578 \n",
      "  245689  1234568  1234569 |  345678   234579   236789 | 2345678  3456789   124578 \n",
      "---------------------------+---------------------------+---------------------------\n",
      "    3        9        8    |    1        6        5    |    47       2        47   \n",
      "   567      567       56   |    2        8        4    |    9        1        3    \n",
      "    1        24       24   |    9        37       37   |    58       58       6    \n",
      "---------------------------+---------------------------+---------------------------\n",
      " 2456789  12345678 1234569 |  345678   234579  1236789 | 2345678   345678   24578  \n",
      " 2456789  12345678 1234569 |  345678   234579  1236789 | 2345678   345678   24578  \n",
      "  245678  2345678   23456  |  345678   23457    23678  |    1      345678     9    \n",
      "\n",
      "  245689   234568     7    |  34568      1      23689  |  234568   345689    2458  \n",
      "  245689  1234568  1234569 |  345678   234579   236789 | 2345678  3456789   124578 \n",
      "  245689  1234568  1234569 |  345678   234579   236789 | 2345678  3456789   124578 \n",
      "---------------------------+---------------------------+---------------------------\n",
      "    3        9        8    |    1        6        5    |    47       2        47   \n",
      "   567      567       56   |    2        8        4    |    9        1        3    \n",
      "    1        24       24   |    9        37       37   |    58       58       6    \n",
      "---------------------------+---------------------------+---------------------------\n",
      " 2456789  12345678 1234569 |  345678   234579  1236789 | 2345678   345678   24578  \n",
      " 2456789  12345678 1234569 |  345678   234579  1236789 | 2345678   345678   24578  \n",
      "  245678  2345678   23456  |  345678   23457    23678  |    1      345678     9    \n",
      "\n",
      "2 5 7 |4 1 3 |6 9 8 \n",
      "4 1 3 |6 9 8 |7 5 2 \n",
      "8 6 9 |5 7 2 |3 4 1 \n",
      "------+------+------\n",
      "3 9 8 |1 6 5 |4 2 7 \n",
      "6 7 5 |2 8 4 |9 1 3 \n",
      "1 2 4 |9 3 7 |5 8 6 \n",
      "------+------+------\n",
      "7 4 1 |3 2 9 |8 6 5 \n",
      "9 8 6 |7 5 1 |2 3 4 \n",
      "5 3 2 |8 4 6 |1 7 9 \n",
      "\n"
     ]
    }
   ],
   "source": [
    "display(eliminate(ques))\n",
    "display(only_choice(eliminate(ques)))\n",
    "display(naked_twins(only_choice(eliminate(ques))))\n",
    "display(search(naked_twins(only_choice(eliminate(ques)))))"
   ]
  },
  {
   "cell_type": "code",
   "execution_count": 146,
   "metadata": {},
   "outputs": [],
   "source": [
    "ques={\"D6\": \"5\", \"E5\": \"678\", \"E9\": \"3\", \"A5\": \"1\", \"I7\": \"1\", \"F1\": \"1\", \"G9\": \"24578\", \"I9\": \"9\", \"D4\": \"1\", \"F7\": \"58\", \"I5\": \"2345678\", \"H3\": \"1234569\", \"D5\": \"36\", \"A8\": \"345689\", \"I3\": \"23456\", \"H7\": \"2345678\", \"C1\": \"2345689\", \"G8\": \"345678\", \"G1\": \"23456789\", \"E2\": \"567\", \"I6\": \"23678\", \"E6\": \"4\", \"H8\": \"345678\", \"A4\": \"34568\", \"F3\": \"24\", \"D1\": \"36\", \"G7\": \"2345678\", \"B3\": \"1234569\", \"E1\": \"567\", \"H4\": \"345678\", \"F8\": \"58\", \"B8\": \"3456789\", \"D7\": \"47\", \"E3\": \"56\", \"C4\": \"345678\", \"H2\": \"12345678\", \"F2\": \"24\", \"C3\": \"1234569\", \"B2\": \"1234568\", \"A1\": \"2345689\", \"H1\": \"23456789\", \"D3\": \"8\", \"A3\": \"7\", \"B9\": \"124578\", \"G5\": \"23456789\", \"G3\": \"1234569\", \"B5\": \"23456789\", \"C2\": \"1234568\", \"I1\": \"2345678\", \"H6\": \"1236789\", \"C8\": \"3456789\", \"C7\": \"2345678\", \"E7\": \"9\", \"H5\": \"23456789\", \"B6\": \"236789\", \"I2\": \"2345678\", \"D9\": \"47\", \"E4\": \"2\", \"A2\": \"234568\", \"A6\": \"23689\", \"D2\": \"9\", \"F9\": \"6\", \"A9\": \"2458\", \"H9\": \"24578\", \"B1\": \"2345689\", \"D8\": \"2\", \"C9\": \"124578\", \"F4\": \"9\", \"B4\": \"345678\", \"E8\": \"1\", \"B7\": \"2345678\", \"G2\": \"12345678\", \"F6\": \"37\", \"G6\": \"1236789\", \"C5\": \"23456789\", \"A7\": \"234568\", \"F5\": \"37\", \"I4\": \"345678\", \"C6\": \"236789\", \"G4\": \"345678\", \"I8\": \"345678\"}\n",
    "result={\"F6\": \"37\", \"I7\": \"1\", \"F7\": \"58\", \"H4\": \"345678\", \"C1\": \"2345689\", \"G7\": \"2345678\", \"E2\": \"567\", \"E4\": \"2\", \"E1\": \"567\", \"A4\": \"34568\", \"F3\": \"24\", \"D1\": \"36\", \"D5\": \"36\", \"B3\": \"1234569\", \"H8\": \"345678\", \"B9\": \"124578\", \"A3\": \"7\", \"E3\": \"56\", \"G6\": \"1236789\", \"B2\": \"1234568\", \"H1\": \"23456789\", \"D3\": \"8\", \"B8\": \"3456789\", \"G5\": \"23456789\", \"D7\": \"47\", \"C2\": \"1234568\", \"B5\": \"23456789\", \"C8\": \"3456789\", \"I2\": \"2345678\", \"E7\": \"9\", \"B4\": \"345678\", \"A7\": \"234568\", \"E8\": \"1\", \"H7\": \"2345678\", \"F4\": \"9\", \"A5\": \"1\", \"A2\": \"234568\", \"C6\": \"236789\", \"I4\": \"345678\", \"D6\": \"5\", \"E5\": \"68\", \"E9\": \"3\", \"F1\": \"1\", \"G9\": \"24578\", \"I9\": \"9\", \"D4\": \"1\", \"I5\": \"2345678\", \"H3\": \"1234569\", \"A8\": \"345689\", \"I3\": \"23456\", \"G8\": \"345678\", \"G1\": \"23456789\", \"G3\": \"1234569\", \"F8\": \"58\", \"A6\": \"23689\", \"C4\": \"345678\", \"F2\": \"24\", \"C3\": \"1234569\", \"I1\": \"2345678\", \"C5\": \"23456789\", \"E6\": \"4\", \"A1\": \"2345689\", \"H2\": \"12345678\", \"H6\": \"1236789\", \"D9\": \"47\", \"C7\": \"2345678\", \"H5\": \"23456789\", \"B6\": \"236789\", \"I6\": \"23678\", \"D2\": \"9\", \"F9\": \"6\", \"A9\": \"2458\", \"H9\": \"24578\", \"B1\": \"2345689\", \"C9\": \"124578\", \"D8\": \"2\", \"B7\": \"2345678\", \"G2\": \"12345678\", \"F5\": \"37\", \"I8\": \"345678\", \"G4\": \"345678\"}\n",
    "#display(ques)\n",
    "#display(result)"
   ]
  },
  {
   "cell_type": "code",
   "execution_count": 147,
   "metadata": {},
   "outputs": [],
   "source": [
    "all_possible_naked_twins_values = [values[box] for box in values.keys() if len(values[box]) == 2]"
   ]
  },
  {
   "cell_type": "code",
   "execution_count": 148,
   "metadata": {},
   "outputs": [
    {
     "data": {
      "text/plain": [
       "['58', '24', '47', '37', '58', '36', '47', '37', '68', '24', '56']"
      ]
     },
     "execution_count": 148,
     "metadata": {},
     "output_type": "execute_result"
    }
   ],
   "source": [
    "all_possible_naked_twins_values"
   ]
  },
  {
   "cell_type": "code",
   "execution_count": 149,
   "metadata": {},
   "outputs": [],
   "source": [
    "    candidate_naked_twins_values = [candidate for candidate in all_possible_naked_twins_values\n",
    "                                    if all_possible_naked_twins_values.count(candidate)>1]"
   ]
  },
  {
   "cell_type": "code",
   "execution_count": 150,
   "metadata": {},
   "outputs": [
    {
     "data": {
      "text/plain": [
       "['58', '24', '47', '37', '58', '47', '37', '24']"
      ]
     },
     "execution_count": 150,
     "metadata": {},
     "output_type": "execute_result"
    }
   ],
   "source": [
    "candidate_naked_twins_values"
   ]
  },
  {
   "cell_type": "code",
   "execution_count": null,
   "metadata": {},
   "outputs": [],
   "source": []
  },
  {
   "cell_type": "code",
   "execution_count": null,
   "metadata": {},
   "outputs": [],
   "source": []
  },
  {
   "cell_type": "code",
   "execution_count": null,
   "metadata": {},
   "outputs": [],
   "source": []
  },
  {
   "cell_type": "code",
   "execution_count": null,
   "metadata": {},
   "outputs": [],
   "source": []
  },
  {
   "cell_type": "code",
   "execution_count": null,
   "metadata": {},
   "outputs": [],
   "source": []
  },
  {
   "cell_type": "code",
   "execution_count": null,
   "metadata": {},
   "outputs": [],
   "source": []
  },
  {
   "cell_type": "code",
   "execution_count": null,
   "metadata": {},
   "outputs": [],
   "source": []
  },
  {
   "cell_type": "code",
   "execution_count": null,
   "metadata": {},
   "outputs": [],
   "source": []
  },
  {
   "cell_type": "code",
   "execution_count": null,
   "metadata": {},
   "outputs": [],
   "source": []
  },
  {
   "cell_type": "code",
   "execution_count": null,
   "metadata": {},
   "outputs": [],
   "source": []
  },
  {
   "cell_type": "code",
   "execution_count": null,
   "metadata": {},
   "outputs": [],
   "source": []
  }
 ],
 "metadata": {
  "kernelspec": {
   "display_name": "Python [conda env:aind]",
   "language": "python",
   "name": "conda-env-aind-py"
  },
  "language_info": {
   "codemirror_mode": {
    "name": "ipython",
    "version": 3
   },
   "file_extension": ".py",
   "mimetype": "text/x-python",
   "name": "python",
   "nbconvert_exporter": "python",
   "pygments_lexer": "ipython3",
   "version": "3.5.4"
  }
 },
 "nbformat": 4,
 "nbformat_minor": 2
}
